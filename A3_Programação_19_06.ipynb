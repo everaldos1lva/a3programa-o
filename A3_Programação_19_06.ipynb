{
  "nbformat": 4,
  "nbformat_minor": 0,
  "metadata": {
    "colab": {
      "provenance": []
    },
    "kernelspec": {
      "name": "python3",
      "display_name": "Python 3"
    },
    "language_info": {
      "name": "python"
    }
  },
  "cells": [
    {
      "cell_type": "code",
      "source": [
        "nota1 = float(input('Nota1 '))\n",
        "nota2 = float(input('Nota2 '))\n",
        "nota3 = float(input('Nota3 '))\n",
        "media = (nota1+nota2+nota3)/3\n",
        "repetente = True\n",
        "\n",
        "if(media >= 7):\n",
        "  print (\"Aprovado, sua media é\",media)\n",
        "elif (media < 7 and repetente ):\n",
        "  print (\"Reprovado sem dó nem piedade\")\n",
        "else:\n",
        "  print(\"Em recuperação, estude mais!\")\n"
      ],
      "metadata": {
        "colab": {
          "base_uri": "https://localhost:8080/"
        },
        "id": "82odatunIo2k",
        "outputId": "9188ecc6-43e2-48fd-f62f-f1018871036a"
      },
      "execution_count": 3,
      "outputs": [
        {
          "output_type": "stream",
          "name": "stdout",
          "text": [
            "Nota1 1\n",
            "Nota2 1\n",
            "Nota3 1\n",
            "Reprovado sem dó nem piedade\n"
          ]
        }
      ]
    }
  ]
}